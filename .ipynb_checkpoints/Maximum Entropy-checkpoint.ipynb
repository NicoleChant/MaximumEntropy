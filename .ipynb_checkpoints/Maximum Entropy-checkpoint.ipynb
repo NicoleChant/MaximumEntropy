{
 "cells": [
  {
   "cell_type": "code",
   "execution_count": 45,
   "id": "0308ab9c",
   "metadata": {},
   "outputs": [
    {
     "name": "stdout",
     "output_type": "stream",
     "text": [
      "The autoreload extension is already loaded. To reload it, use:\n",
      "  %reload_ext autoreload\n"
     ]
    }
   ],
   "source": [
    "import os\n",
    "import numpy as np\n",
    "import matplotlib.pyplot as plt\n",
    "plt.style.use('seaborn')\n",
    "%load_ext autoreload\n",
    "%autoreload 2"
   ]
  },
  {
   "cell_type": "code",
   "execution_count": 46,
   "id": "e5021dcd",
   "metadata": {},
   "outputs": [
    {
     "data": {
      "text/plain": [
       "['__pycache__',\n",
       " 'maxent.py',\n",
       " '.git',\n",
       " '.ipynb_checkpoints',\n",
       " 'Maximum Entropy.ipynb']"
      ]
     },
     "execution_count": 46,
     "metadata": {},
     "output_type": "execute_result"
    }
   ],
   "source": [
    "os.listdir()"
   ]
  },
  {
   "cell_type": "code",
   "execution_count": 47,
   "id": "7b2e33b8",
   "metadata": {},
   "outputs": [],
   "source": [
    "from maxent import MaxEnt"
   ]
  },
  {
   "cell_type": "code",
   "execution_count": 134,
   "id": "9c8542b6",
   "metadata": {},
   "outputs": [],
   "source": [
    "mean = 2.8\n",
    "payoff = lambda i : i\n",
    "model = MaxEnt(6 , payoff)"
   ]
  },
  {
   "cell_type": "code",
   "execution_count": 135,
   "id": "16e9a334",
   "metadata": {},
   "outputs": [
    {
     "name": "stdout",
     "output_type": "stream",
     "text": [
      "iteration 0:\t-0.2400000000000001\t-0.02369602503946666\n",
      "iteration 1:\t-0.24901085392289896\t-9.03212266027964e-05\n",
      "iteration 2:\t-0.24904546520112664\t-1.3547216681786267e-09\n",
      "iteration 3:\t-0.2490454657202743\t8.881784197001252e-16\n"
     ]
    }
   ],
   "source": [
    "model.fit(mean , verbose = True , start = 0, max_iter = 100)"
   ]
  },
  {
   "cell_type": "code",
   "execution_count": 136,
   "id": "5412a59c",
   "metadata": {},
   "outputs": [
    {
     "data": {
      "text/plain": [
       "array([0.28424292, 0.22158001, 0.17273149, 0.13465188, 0.10496714,\n",
       "       0.08182656])"
      ]
     },
     "execution_count": 136,
     "metadata": {},
     "output_type": "execute_result"
    }
   ],
   "source": [
    "model.proba"
   ]
  },
  {
   "cell_type": "code",
   "execution_count": 137,
   "id": "dff33340",
   "metadata": {},
   "outputs": [
    {
     "data": {
      "text/plain": [
       "-0.2490454657202743"
      ]
     },
     "execution_count": 137,
     "metadata": {},
     "output_type": "execute_result"
    }
   ],
   "source": [
    "model.multiplier"
   ]
  },
  {
   "cell_type": "code",
   "execution_count": 138,
   "id": "0e418e63",
   "metadata": {},
   "outputs": [
    {
     "data": {
      "image/png": "[encoded data removed]",
      "text/plain": [
       "<Figure size 720x432 with 1 Axes>"
      ]
     },
     "metadata": {},
     "output_type": "display_data"
    }
   ],
   "source": [
    "fig , ax = plt.subplots(nrows = 1 , ncols = 1 , figsize = (10,6))\n",
    "\n",
    "ax.barh(range(1,events+1),\n",
    "         model.proba,\n",
    "         color = 'orange',\n",
    "         height = 0.5)\n",
    "\n",
    "for i , patch in enumerate(ax.patches):\n",
    "    ax.annotate( text = f\"{model.proba[i]:.2f}\" , \n",
    "                 xy = (patch.get_x() + model.proba[i] , \n",
    "                       patch.get_y() + patch.get_width())\n",
    "               )"
   ]
  },
  {
   "cell_type": "code",
   "execution_count": 143,
   "id": "04547c44",
   "metadata": {},
   "outputs": [
    {
     "data": {
      "text/plain": [
       "array([[1.00000000e+00, 8.95635715e-11, 8.02163334e-21, 7.18446131e-31,\n",
       "        6.43466015e-41, 5.76311144e-51],\n",
       "       [9.51923022e-01, 4.57655938e-02, 2.20027201e-03, 1.05782456e-04,\n",
       "        5.08570209e-06, 2.44505249e-07],\n",
       "       [9.08254471e-01, 8.33287792e-02, 7.64508810e-03, 7.01406797e-04,\n",
       "        6.43513179e-05, 5.90398058e-06],\n",
       "       [8.68402058e-01, 1.14283842e-01, 1.50400340e-02, 1.97930538e-03,\n",
       "        2.60481444e-04, 3.42799973e-05],\n",
       "       [8.31857689e-01, 1.39886122e-01, 2.35234072e-02, 3.95572255e-03,\n",
       "        6.65198741e-04, 1.11860567e-04],\n",
       "       [7.98182344e-01, 1.61130408e-01, 3.25276655e-02, 6.56641437e-03,\n",
       "        1.32557308e-03, 2.67595659e-04],\n",
       "       [7.66998056e-01, 1.78806471e-01, 4.16842698e-02, 9.71764805e-03,\n",
       "        2.26542732e-03, 5.28127887e-04],\n",
       "       [7.37981689e-01, 1.93541917e-01, 5.07579989e-02, 1.33117130e-02,\n",
       "        3.49110892e-03, 9.15572735e-04],\n",
       "       [7.10858657e-01, 2.05836479e-01, 5.96020822e-02, 1.72583996e-02,\n",
       "        4.99734816e-03, 1.44703386e-03],\n",
       "       [6.85396500e-01, 2.16089492e-01, 6.81279646e-02, 2.14791544e-02,\n",
       "        6.77187519e-03, 2.13501392e-03],\n",
       "       [6.61398661e-01, 2.24621680e-01, 7.62851545e-02, 2.59076719e-02,\n",
       "        8.79866431e-03, 2.98816867e-03],\n",
       "       [6.38698802e-01, 2.31692217e-01, 8.40478850e-02, 3.04889265e-02,\n",
       "        1.10600599e-02, 4.01210991e-03],\n",
       "       [6.17155821e-01, 2.37511981e-01, 9.14063178e-02, 3.51776567e-02,\n",
       "        1.35380963e-02, 5.21012678e-03],\n",
       "       [5.96649612e-01, 2.42253799e-01, 9.83607496e-02, 3.99367816e-02,\n",
       "        1.62152742e-02, 6.58378334e-03],\n",
       "       [5.77077513e-01, 2.46060362e-01, 1.04917798e-01, 4.47359512e-02,\n",
       "        1.90749841e-02, 8.13339177e-03],\n",
       "       [5.58351372e-01, 2.49050350e-01, 1.11087892e-01, 4.95503005e-02,\n",
       "        2.21017093e-02, 9.85837718e-03],\n",
       "       [5.40395139e-01, 2.51323179e-01, 1.16883620e-01, 5.43594137e-02,\n",
       "        2.52810946e-02, 1.17575540e-02],\n",
       "       [5.23142888e-01, 2.52962712e-01, 1.22318654e-01, 5.91464763e-02,\n",
       "        2.85999359e-02, 1.38293333e-02],\n",
       "       [5.06537197e-01, 2.54040167e-01, 1.27407043e-01, 6.38975908e-02,\n",
       "        3.20461256e-02, 1.60718762e-02],\n",
       "       [4.90527818e-01, 2.54616406e-01, 1.32162768e-01, 6.86012244e-02,\n",
       "        3.56085762e-02, 1.84832080e-02],\n",
       "       [4.75070584e-01, 2.54743759e-01, 1.36599455e-01, 7.32477654e-02,\n",
       "        3.92771342e-02, 2.10613015e-02],\n",
       "       [4.60126510e-01, 2.54467484e-01, 1.40730210e-01, 7.78291657e-02,\n",
       "        4.30424928e-02, 2.38041378e-02],\n",
       "       [4.45661038e-01, 2.53826931e-01, 1.44567520e-01, 8.23386537e-02,\n",
       "        4.68961071e-02, 2.67097501e-02],\n",
       "       [4.31643421e-01, 2.52856498e-01, 1.48123209e-01, 8.67705010e-02,\n",
       "        5.08301157e-02, 2.97762561e-02],\n",
       "       [4.18046198e-01, 2.51586398e-01, 1.51408424e-01, 9.11198337e-02,\n",
       "        5.48372665e-02, 3.30018798e-02],\n",
       "       [4.04844762e-01, 2.50043298e-01, 1.54433642e-01, 9.53824791e-02,\n",
       "        5.89108515e-02, 3.63849677e-02],\n",
       "       [3.92016990e-01, 2.48250836e-01, 1.57208690e-01, 9.95548399e-02,\n",
       "        6.30446456e-02, 3.99239991e-02],\n",
       "       [3.79542930e-01, 2.46230057e-01, 1.59742775e-01, 1.03633791e-01,\n",
       "        6.72328536e-02, 4.36175939e-02],\n",
       "       [3.67404538e-01, 2.43999775e-01, 1.62044515e-01, 1.07616594e-01,\n",
       "        7.14700610e-02, 4.74645166e-02],\n",
       "       [3.55585455e-01, 2.41576874e-01, 1.64121972e-01, 1.11500829e-01,\n",
       "        7.57511908e-02, 5.14636795e-02],\n",
       "       [3.44070807e-01, 2.38976564e-01, 1.65982690e-01, 1.15284331e-01,\n",
       "        8.00714644e-02, 5.56141441e-02],\n",
       "       [3.32847042e-01, 2.36212595e-01, 1.67633727e-01, 1.18965148e-01,\n",
       "        8.44263662e-02, 5.99151218e-02],\n",
       "       [3.21901789e-01, 2.33297445e-01, 1.69081687e-01, 1.22541492e-01,\n",
       "        8.88116125e-02, 6.43659741e-02],\n",
       "       [3.11223728e-01, 2.30242470e-01, 1.70332756e-01, 1.26011711e-01,\n",
       "        9.32231220e-02, 6.89662130e-02],\n",
       "       [3.00802485e-01, 2.27058048e-01, 1.71392723e-01, 1.29374254e-01,\n",
       "        9.76569906e-02, 7.37155001e-02],\n",
       "       [2.90628537e-01, 2.23753684e-01, 1.72267016e-01, 1.32627649e-01,\n",
       "        1.02109467e-01, 7.86136475e-02],\n",
       "       [2.80693128e-01, 2.20338119e-01, 1.72960724e-01, 1.35770480e-01,\n",
       "        1.06576931e-01, 8.36606176e-02],\n",
       "       [2.70988201e-01, 2.16819415e-01, 1.73478619e-01, 1.38801367e-01,\n",
       "        1.11055873e-01, 8.88565239e-02],\n",
       "       [2.61506327e-01, 2.13205030e-01, 1.73825181e-01, 1.41718953e-01,\n",
       "        1.15542878e-01, 9.42016315e-02],\n",
       "       [2.52240656e-01, 2.09501882e-01, 1.74004617e-01, 1.44521884e-01,\n",
       "        1.20034602e-01, 9.96963590e-02],\n",
       "       [2.43184863e-01, 2.05716416e-01, 1.74020880e-01, 1.47208799e-01,\n",
       "        1.24527761e-01, 1.05341280e-01],\n",
       "       [2.34333106e-01, 2.01854646e-01, 1.73877687e-01, 1.49778320e-01,\n",
       "        1.29019115e-01, 1.11137126e-01],\n",
       "       [2.25679984e-01, 1.97922209e-01, 1.73578534e-01, 1.52229038e-01,\n",
       "        1.33505448e-01, 1.17084788e-01],\n",
       "       [2.17220508e-01, 1.93924398e-01, 1.73126712e-01, 1.54559502e-01,\n",
       "        1.37983557e-01, 1.23185323e-01],\n",
       "       [2.08950063e-01, 1.89866207e-01, 1.72525321e-01, 1.56768215e-01,\n",
       "        1.42450239e-01, 1.29439954e-01],\n",
       "       [2.00864387e-01, 1.85752358e-01, 1.71777282e-01, 1.58853621e-01,\n",
       "        1.46902271e-01, 1.35850081e-01],\n",
       "       [1.92959542e-01, 1.81587331e-01, 1.70885349e-01, 1.60814097e-01,\n",
       "        1.51336401e-01, 1.42417280e-01],\n",
       "       [1.85231893e-01, 1.77375393e-01, 1.69852122e-01, 1.62647946e-01,\n",
       "        1.55749330e-01, 1.49143316e-01],\n",
       "       [1.77678090e-01, 1.73120622e-01, 1.68680054e-01, 1.64353387e-01,\n",
       "        1.60137700e-01, 1.56030146e-01],\n",
       "       [1.70295047e-01, 1.68826928e-01, 1.67371466e-01, 1.65928551e-01,\n",
       "        1.64498075e-01, 1.63079932e-01],\n",
       "       [1.63079932e-01, 1.64498075e-01, 1.65928551e-01, 1.67371466e-01,\n",
       "        1.68826928e-01, 1.70295047e-01],\n",
       "       [1.56030146e-01, 1.60137700e-01, 1.64353387e-01, 1.68680054e-01,\n",
       "        1.73120622e-01, 1.77678090e-01],\n",
       "       [1.49143316e-01, 1.55749330e-01, 1.62647946e-01, 1.69852122e-01,\n",
       "        1.77375393e-01, 1.85231893e-01],\n",
       "       [1.42417280e-01, 1.51336401e-01, 1.60814097e-01, 1.70885349e-01,\n",
       "        1.81587331e-01, 1.92959542e-01],\n",
       "       [1.35850081e-01, 1.46902271e-01, 1.58853621e-01, 1.71777282e-01,\n",
       "        1.85752358e-01, 2.00864387e-01],\n",
       "       [1.29439954e-01, 1.42450239e-01, 1.56768215e-01, 1.72525321e-01,\n",
       "        1.89866207e-01, 2.08950063e-01],\n",
       "       [1.23185323e-01, 1.37983557e-01, 1.54559502e-01, 1.73126712e-01,\n",
       "        1.93924398e-01, 2.17220508e-01],\n",
       "       [1.17084788e-01, 1.33505448e-01, 1.52229038e-01, 1.73578534e-01,\n",
       "        1.97922209e-01, 2.25679984e-01],\n",
       "       [1.11137126e-01, 1.29019115e-01, 1.49778320e-01, 1.73877687e-01,\n",
       "        2.01854646e-01, 2.34333106e-01],\n",
       "       [1.05341280e-01, 1.24527761e-01, 1.47208799e-01, 1.74020880e-01,\n",
       "        2.05716416e-01, 2.43184863e-01],\n",
       "       [9.96963590e-02, 1.20034602e-01, 1.44521884e-01, 1.74004617e-01,\n",
       "        2.09501882e-01, 2.52240656e-01],\n",
       "       [9.42016315e-02, 1.15542878e-01, 1.41718953e-01, 1.73825181e-01,\n",
       "        2.13205030e-01, 2.61506327e-01],\n",
       "       [8.88565239e-02, 1.11055873e-01, 1.38801367e-01, 1.73478619e-01,\n",
       "        2.16819415e-01, 2.70988201e-01],\n",
       "       [8.36606176e-02, 1.06576931e-01, 1.35770480e-01, 1.72960724e-01,\n",
       "        2.20338119e-01, 2.80693128e-01],\n",
       "       [7.86136475e-02, 1.02109467e-01, 1.32627649e-01, 1.72267016e-01,\n",
       "        2.23753684e-01, 2.90628537e-01],\n",
       "       [7.37155001e-02, 9.76569906e-02, 1.29374254e-01, 1.71392723e-01,\n",
       "        2.27058048e-01, 3.00802485e-01],\n",
       "       [6.89662130e-02, 9.32231220e-02, 1.26011711e-01, 1.70332756e-01,\n",
       "        2.30242470e-01, 3.11223728e-01],\n",
       "       [6.43659741e-02, 8.88116125e-02, 1.22541492e-01, 1.69081687e-01,\n",
       "        2.33297445e-01, 3.21901789e-01],\n",
       "       [5.99151218e-02, 8.44263662e-02, 1.18965148e-01, 1.67633727e-01,\n",
       "        2.36212595e-01, 3.32847042e-01],\n",
       "       [5.56141441e-02, 8.00714644e-02, 1.15284331e-01, 1.65982690e-01,\n",
       "        2.38976564e-01, 3.44070807e-01],\n",
       "       [5.14636795e-02, 7.57511908e-02, 1.11500829e-01, 1.64121972e-01,\n",
       "        2.41576874e-01, 3.55585455e-01],\n",
       "       [4.74645166e-02, 7.14700610e-02, 1.07616594e-01, 1.62044515e-01,\n",
       "        2.43999775e-01, 3.67404538e-01],\n",
       "       [4.36175939e-02, 6.72328536e-02, 1.03633791e-01, 1.59742775e-01,\n",
       "        2.46230057e-01, 3.79542930e-01],\n",
       "       [3.99239991e-02, 6.30446456e-02, 9.95548399e-02, 1.57208690e-01,\n",
       "        2.48250836e-01, 3.92016990e-01],\n",
       "       [3.63849677e-02, 5.89108515e-02, 9.53824791e-02, 1.54433642e-01,\n",
       "        2.50043298e-01, 4.04844762e-01],\n",
       "       [3.30018798e-02, 5.48372665e-02, 9.11198337e-02, 1.51408424e-01,\n",
       "        2.51586398e-01, 4.18046198e-01],\n",
       "       [2.97762561e-02, 5.08301157e-02, 8.67705010e-02, 1.48123209e-01,\n",
       "        2.52856498e-01, 4.31643421e-01],\n",
       "       [2.67097501e-02, 4.68961071e-02, 8.23386537e-02, 1.44567520e-01,\n",
       "        2.53826931e-01, 4.45661038e-01],\n",
       "       [2.38041378e-02, 4.30424928e-02, 7.78291657e-02, 1.40730210e-01,\n",
       "        2.54467484e-01, 4.60126510e-01],\n",
       "       [2.10613015e-02, 3.92771342e-02, 7.32477654e-02, 1.36599455e-01,\n",
       "        2.54743759e-01, 4.75070584e-01],\n",
       "       [1.84832080e-02, 3.56085762e-02, 6.86012244e-02, 1.32162768e-01,\n",
       "        2.54616406e-01, 4.90527818e-01],\n",
       "       [1.60718762e-02, 3.20461256e-02, 6.38975908e-02, 1.27407043e-01,\n",
       "        2.54040167e-01, 5.06537197e-01],\n",
       "       [1.38293333e-02, 2.85999359e-02, 5.91464763e-02, 1.22318654e-01,\n",
       "        2.52962712e-01, 5.23142888e-01],\n",
       "       [1.17575540e-02, 2.52810946e-02, 5.43594137e-02, 1.16883620e-01,\n",
       "        2.51323179e-01, 5.40395139e-01],\n",
       "       [9.85837718e-03, 2.21017093e-02, 4.95503005e-02, 1.11087892e-01,\n",
       "        2.49050350e-01, 5.58351372e-01],\n",
       "       [8.13339177e-03, 1.90749841e-02, 4.47359512e-02, 1.04917798e-01,\n",
       "        2.46060362e-01, 5.77077513e-01],\n",
       "       [6.58378334e-03, 1.62152742e-02, 3.99367816e-02, 9.83607496e-02,\n",
       "        2.42253799e-01, 5.96649612e-01],\n",
       "       [5.21012678e-03, 1.35380963e-02, 3.51776567e-02, 9.14063178e-02,\n",
       "        2.37511981e-01, 6.17155821e-01],\n",
       "       [4.01210991e-03, 1.10600599e-02, 3.04889265e-02, 8.40478850e-02,\n",
       "        2.31692217e-01, 6.38698802e-01],\n",
       "       [2.98816867e-03, 8.79866431e-03, 2.59076719e-02, 7.62851545e-02,\n",
       "        2.24621680e-01, 6.61398661e-01],\n",
       "       [2.13501392e-03, 6.77187519e-03, 2.14791544e-02, 6.81279646e-02,\n",
       "        2.16089492e-01, 6.85396500e-01],\n",
       "       [1.44703386e-03, 4.99734816e-03, 1.72583996e-02, 5.96020822e-02,\n",
       "        2.05836479e-01, 7.10858657e-01],\n",
       "       [9.15572735e-04, 3.49110892e-03, 1.33117130e-02, 5.07579989e-02,\n",
       "        1.93541917e-01, 7.37981689e-01],\n",
       "       [5.28127887e-04, 2.26542732e-03, 9.71764805e-03, 4.16842698e-02,\n",
       "        1.78806471e-01, 7.66998056e-01],\n",
       "       [2.67595659e-04, 1.32557308e-03, 6.56641437e-03, 3.25276655e-02,\n",
       "        1.61130408e-01, 7.98182344e-01],\n",
       "       [1.11860567e-04, 6.65198741e-04, 3.95572255e-03, 2.35234072e-02,\n",
       "        1.39886122e-01, 8.31857689e-01],\n",
       "       [3.42799973e-05, 2.60481444e-04, 1.97930538e-03, 1.50400340e-02,\n",
       "        1.14283842e-01, 8.68402058e-01],\n",
       "       [5.90398058e-06, 6.43513179e-05, 7.01406797e-04, 7.64508810e-03,\n",
       "        8.33287792e-02, 9.08254471e-01],\n",
       "       [2.44505249e-07, 5.08570209e-06, 1.05782456e-04, 2.20027201e-03,\n",
       "        4.57655938e-02, 9.51923022e-01],\n",
       "       [5.76166784e-51, 6.43337066e-41, 7.18338148e-31, 8.02082954e-21,\n",
       "        8.95590841e-11, 1.00000000e+00]])"
      ]
     },
     "execution_count": 143,
     "metadata": {},
     "output_type": "execute_result"
    }
   ],
   "source": [
    "means = np.linspace(1,6,100)\n",
    "probabilities = None\n",
    "model = MaxEnt(6)\n",
    "\n",
    "for sample_mean in means:\n",
    "    model.fit(sample_mean)\n",
    "    if probabilities is not None:\n",
    "        probabilities = np.vstack([probabilities , model.predict_proba])\n",
    "    else:\n",
    "        probabilities = model.predict_proba\n",
    "probabilities"
   ]
  },
  {
   "cell_type": "code",
   "execution_count": 171,
   "id": "968e4404",
   "metadata": {},
   "outputs": [],
   "source": [
    "from random import random as rand\n",
    "\n",
    "def RiskyAsset():\n",
    "    roll = rand()\n",
    "    if roll <= 0.5:\n",
    "        return 100\n",
    "    elif roll <= 0.8:\n",
    "        return 220\n",
    "    else:\n",
    "        return 450\n",
    "    \n",
    "def getTotalDamage(periods):\n",
    "    return sum(getSamples(periods))\n",
    "\n",
    "def getSamples(periods , epochs):\n",
    "    samples = []\n",
    "    for _ in range(epochs):\n",
    "        samples.append(sum([RiskyAsset() for _ in range(periods)])/periods)\n",
    "    return samples\n",
    "\n",
    "samples = getSamples(30, 100000)"
   ]
  },
  {
   "cell_type": "code",
   "execution_count": 175,
   "id": "b1a5e2cf",
   "metadata": {},
   "outputs": [
    {
     "data": {
      "text/plain": [
       "190.0"
      ]
     },
     "execution_count": 175,
     "metadata": {},
     "output_type": "execute_result"
    }
   ],
   "source": [
    "probabilities = np.array([0.5, 0.3 , 0.2])\n",
    "damage = np.array([100 , 200 , 400])\n",
    "expected_val = np.dot( probabilities , damage)\n",
    "var = np.dot( probabilities , damage**2 ) - np.dot( probabilities , damage)**2\n",
    "expected_val"
   ]
  },
  {
   "cell_type": "markdown",
   "id": "679a5ff2",
   "metadata": {},
   "source": [
    "\\begin{equation}\n",
    "X = \n",
    "\\begin{cases}\n",
    "& 100 , \\text{ with probability } 0.5 \\\\\n",
    "& 220 , \\text{ with probability } 0.3 \\\\\n",
    "& 400 , \\text{ with probability } 0.2 \n",
    "\\end{cases}\n",
    "\\end{equation}\n",
    "\n",
    "\\begin{equation}\n",
    "\\mathbb{E} [ X ] = 100 \\times 0.5 + 220 \\times 0.3 + 400 \\times 0.2\n",
    "\\end{equation}\n",
    "\n",
    "\\begin{equation}\n",
    "\\mathbb{E} [ X^{2} ] = 100^2 \\times 0.5 + 220^2 \\times 0.3 + 400^2 \\times 0.2\n",
    "\\end{equation}\n",
    "\n",
    "\\begin{equation}\n",
    "\\mathbb{Var} [ X ] = \n",
    "\\end{equation}\n",
    "\n",
    "\\begin{equation}\n",
    "X_{1} + \\cdots + X_{n} \\sim \\mathcal{N} ( n \\mu , n \\sigma^{2} )\n",
    "\\end{equation}"
   ]
  },
  {
   "cell_type": "code",
   "execution_count": 172,
   "id": "2091dce1",
   "metadata": {},
   "outputs": [
    {
     "data": {
      "image/png": "[encoded data removed]",
      "text/plain": [
       "<Figure size 576x396 with 1 Axes>"
      ]
     },
     "metadata": {},
     "output_type": "display_data"
    }
   ],
   "source": [
    "sns.histplot(samples , bins = 30 , kde = True);"
   ]
  },
  {
   "cell_type": "code",
   "execution_count": 176,
   "id": "e1354d70",
   "metadata": {},
   "outputs": [],
   "source": [
    "from scipy.stats import norm"
   ]
  },
  {
   "cell_type": "code",
   "execution_count": 179,
   "id": "66888332",
   "metadata": {},
   "outputs": [
    {
     "data": {
      "image/png": "[encoded data removed]",
      "text/plain": [
       "<Figure size 720x432 with 1 Axes>"
      ]
     },
     "metadata": {},
     "output_type": "display_data"
    }
   ],
   "source": [
    "epochs = 30 \n",
    "mean = expected_val*epochs\n",
    "std = var**0.5*epochs\n",
    "deviations = 4\n",
    "xs = np.linspace(mean - 4*std , mean + 4*std)\n",
    "fig , ax = plt.subplots(nrows = 1 , ncols = 1 , figsize = (10,6))\n",
    "ax.plot( xs , norm.pdf(xs , mean , std));"
   ]
  },
  {
   "cell_type": "code",
   "execution_count": null,
   "id": "6e29263d",
   "metadata": {},
   "outputs": [],
   "source": []
  },
  {
   "cell_type": "code",
   "execution_count": 80,
   "id": "97c852e1",
   "metadata": {},
   "outputs": [
    {
     "data": {
      "image/png": "[encoded data removed]",
      "text/plain": [
       "<Figure size 576x396 with 1 Axes>"
      ]
     },
     "metadata": {},
     "output_type": "display_data"
    }
   ],
   "source": [
    "def gibbs_distr(events,m):\n",
    "    partition = sum([np.e**(i*m) for i in range(1,1+events)])\n",
    "    return [np.e**(i*m)/partition for i in range(1,1+events)]\n",
    "\n",
    "events = 6\n",
    "plt.barh(range(1,events+1),\n",
    "         gibbs_distr(events,1),\n",
    "         color = 'orange',\n",
    "         height = 0.5);"
   ]
  },
  {
   "cell_type": "code",
   "execution_count": 81,
   "id": "9379cf8f",
   "metadata": {},
   "outputs": [
    {
     "data": {
      "image/png": "[encoded data removed]",
      "text/plain": [
       "<Figure size 720x432 with 1 Axes>"
      ]
     },
     "metadata": {},
     "output_type": "display_data"
    }
   ],
   "source": [
    "fig , ax = plt.subplots(nrows = 1 , ncols = 1 , figsize = (10,6))\n",
    "\n",
    "ax.barh(range(1,events+1),\n",
    "         gibbs_distr(events,mu),\n",
    "         color = 'orange',\n",
    "         height = 0.5)\n",
    "\n",
    "for i , patch in enumerate(ax.patches):\n",
    "    ax.annotate( text = f\"{gibbs_distr(events,mu)[i]:.2f}\" , \n",
    "                 xy = (patch.get_x() + gibbs_distr(events,mu)[i] , \n",
    "                       patch.get_y() + patch.get_width())\n",
    "               )"
   ]
  },
  {
   "cell_type": "code",
   "execution_count": null,
   "id": "7519564d",
   "metadata": {},
   "outputs": [],
   "source": []
  },
  {
   "cell_type": "code",
   "execution_count": null,
   "id": "9cdbf27f",
   "metadata": {},
   "outputs": [],
   "source": []
  }
 ],
 "metadata": {
  "kernelspec": {
   "display_name": "Python 3 (ipykernel)",
   "language": "python",
   "name": "python3"
  },
  "language_info": {
   "codemirror_mode": {
    "name": "ipython",
    "version": 3
   },
   "file_extension": ".py",
   "mimetype": "text/x-python",
   "name": "python",
   "nbconvert_exporter": "python",
   "pygments_lexer": "ipython3",
   "version": "3.8.12"
  },
  "toc": {
   "base_numbering": 1,
   "nav_menu": {},
   "number_sections": true,
   "sideBar": true,
   "skip_h1_title": false,
   "title_cell": "Table of Contents",
   "title_sidebar": "Contents",
   "toc_cell": false,
   "toc_position": {},
   "toc_section_display": true,
   "toc_window_display": false
  }
 },
 "nbformat": 4,
 "nbformat_minor": 5
}
